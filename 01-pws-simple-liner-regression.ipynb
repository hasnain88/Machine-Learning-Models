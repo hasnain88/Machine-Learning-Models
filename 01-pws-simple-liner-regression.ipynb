{
 "cells": [
  {
   "cell_type": "markdown",
   "id": "6f23a81e",
   "metadata": {
    "execution": {
     "iopub.execute_input": "2023-05-03T10:35:16.541803Z",
     "iopub.status.busy": "2023-05-03T10:35:16.541442Z",
     "iopub.status.idle": "2023-05-03T10:35:16.548182Z",
     "shell.execute_reply": "2023-05-03T10:35:16.547400Z",
     "shell.execute_reply.started": "2023-05-03T10:35:16.541774Z"
    },
    "papermill": {
     "duration": 0.012226,
     "end_time": "2023-05-03T11:52:31.945576",
     "exception": false,
     "start_time": "2023-05-03T11:52:31.933350",
     "status": "completed"
    },
    "tags": []
   },
   "source": [
    "# Simple Linear Regression"
   ]
  },
  {
   "cell_type": "code",
   "execution_count": 1,
   "id": "6289b5b8",
   "metadata": {
    "execution": {
     "iopub.execute_input": "2023-05-03T11:52:31.969032Z",
     "iopub.status.busy": "2023-05-03T11:52:31.968216Z",
     "iopub.status.idle": "2023-05-03T11:52:31.981494Z",
     "shell.execute_reply": "2023-05-03T11:52:31.980679Z"
    },
    "papermill": {
     "duration": 0.027734,
     "end_time": "2023-05-03T11:52:31.983866",
     "exception": false,
     "start_time": "2023-05-03T11:52:31.956132",
     "status": "completed"
    },
    "tags": []
   },
   "outputs": [],
   "source": [
    "import pandas as pd\n",
    "import matplotlib.pyplot as plt\n",
    "import numpy as np\n",
    "%matplotlib inline"
   ]
  },
  {
   "cell_type": "code",
   "execution_count": 2,
   "id": "0cc78f81",
   "metadata": {
    "execution": {
     "iopub.execute_input": "2023-05-03T11:52:32.006562Z",
     "iopub.status.busy": "2023-05-03T11:52:32.005954Z",
     "iopub.status.idle": "2023-05-03T11:52:32.056627Z",
     "shell.execute_reply": "2023-05-03T11:52:32.055786Z"
    },
    "papermill": {
     "duration": 0.065011,
     "end_time": "2023-05-03T11:52:32.059018",
     "exception": false,
     "start_time": "2023-05-03T11:52:31.994007",
     "status": "completed"
    },
    "tags": []
   },
   "outputs": [],
   "source": [
    "df = pd.read_csv(\"/kaggle/input/heights-and-weights-dataset/SOCR-HeightWeight.csv\")"
   ]
  },
  {
   "cell_type": "code",
   "execution_count": 3,
   "id": "78c31c3a",
   "metadata": {
    "execution": {
     "iopub.execute_input": "2023-05-03T11:52:32.082013Z",
     "iopub.status.busy": "2023-05-03T11:52:32.081389Z",
     "iopub.status.idle": "2023-05-03T11:52:32.112139Z",
     "shell.execute_reply": "2023-05-03T11:52:32.111066Z"
    },
    "papermill": {
     "duration": 0.045417,
     "end_time": "2023-05-03T11:52:32.114660",
     "exception": false,
     "start_time": "2023-05-03T11:52:32.069243",
     "status": "completed"
    },
    "tags": []
   },
   "outputs": [
    {
     "data": {
      "text/html": [
       "<div>\n",
       "<style scoped>\n",
       "    .dataframe tbody tr th:only-of-type {\n",
       "        vertical-align: middle;\n",
       "    }\n",
       "\n",
       "    .dataframe tbody tr th {\n",
       "        vertical-align: top;\n",
       "    }\n",
       "\n",
       "    .dataframe thead th {\n",
       "        text-align: right;\n",
       "    }\n",
       "</style>\n",
       "<table border=\"1\" class=\"dataframe\">\n",
       "  <thead>\n",
       "    <tr style=\"text-align: right;\">\n",
       "      <th></th>\n",
       "      <th>Index</th>\n",
       "      <th>Height(Inches)</th>\n",
       "      <th>Weight(Pounds)</th>\n",
       "    </tr>\n",
       "  </thead>\n",
       "  <tbody>\n",
       "    <tr>\n",
       "      <th>0</th>\n",
       "      <td>1</td>\n",
       "      <td>65.78331</td>\n",
       "      <td>112.9925</td>\n",
       "    </tr>\n",
       "    <tr>\n",
       "      <th>1</th>\n",
       "      <td>2</td>\n",
       "      <td>71.51521</td>\n",
       "      <td>136.4873</td>\n",
       "    </tr>\n",
       "    <tr>\n",
       "      <th>2</th>\n",
       "      <td>3</td>\n",
       "      <td>69.39874</td>\n",
       "      <td>153.0269</td>\n",
       "    </tr>\n",
       "    <tr>\n",
       "      <th>3</th>\n",
       "      <td>4</td>\n",
       "      <td>68.21660</td>\n",
       "      <td>142.3354</td>\n",
       "    </tr>\n",
       "    <tr>\n",
       "      <th>4</th>\n",
       "      <td>5</td>\n",
       "      <td>67.78781</td>\n",
       "      <td>144.2971</td>\n",
       "    </tr>\n",
       "    <tr>\n",
       "      <th>...</th>\n",
       "      <td>...</td>\n",
       "      <td>...</td>\n",
       "      <td>...</td>\n",
       "    </tr>\n",
       "    <tr>\n",
       "      <th>24995</th>\n",
       "      <td>24996</td>\n",
       "      <td>69.50215</td>\n",
       "      <td>118.0312</td>\n",
       "    </tr>\n",
       "    <tr>\n",
       "      <th>24996</th>\n",
       "      <td>24997</td>\n",
       "      <td>64.54826</td>\n",
       "      <td>120.1932</td>\n",
       "    </tr>\n",
       "    <tr>\n",
       "      <th>24997</th>\n",
       "      <td>24998</td>\n",
       "      <td>64.69855</td>\n",
       "      <td>118.2655</td>\n",
       "    </tr>\n",
       "    <tr>\n",
       "      <th>24998</th>\n",
       "      <td>24999</td>\n",
       "      <td>67.52918</td>\n",
       "      <td>132.2682</td>\n",
       "    </tr>\n",
       "    <tr>\n",
       "      <th>24999</th>\n",
       "      <td>25000</td>\n",
       "      <td>68.87761</td>\n",
       "      <td>124.8742</td>\n",
       "    </tr>\n",
       "  </tbody>\n",
       "</table>\n",
       "<p>25000 rows × 3 columns</p>\n",
       "</div>"
      ],
      "text/plain": [
       "       Index  Height(Inches)  Weight(Pounds)\n",
       "0          1        65.78331        112.9925\n",
       "1          2        71.51521        136.4873\n",
       "2          3        69.39874        153.0269\n",
       "3          4        68.21660        142.3354\n",
       "4          5        67.78781        144.2971\n",
       "...      ...             ...             ...\n",
       "24995  24996        69.50215        118.0312\n",
       "24996  24997        64.54826        120.1932\n",
       "24997  24998        64.69855        118.2655\n",
       "24998  24999        67.52918        132.2682\n",
       "24999  25000        68.87761        124.8742\n",
       "\n",
       "[25000 rows x 3 columns]"
      ]
     },
     "execution_count": 3,
     "metadata": {},
     "output_type": "execute_result"
    }
   ],
   "source": [
    "df"
   ]
  },
  {
   "cell_type": "code",
   "execution_count": 4,
   "id": "04237067",
   "metadata": {
    "execution": {
     "iopub.execute_input": "2023-05-03T11:52:32.139700Z",
     "iopub.status.busy": "2023-05-03T11:52:32.139290Z",
     "iopub.status.idle": "2023-05-03T11:52:32.152545Z",
     "shell.execute_reply": "2023-05-03T11:52:32.151786Z"
    },
    "papermill": {
     "duration": 0.028925,
     "end_time": "2023-05-03T11:52:32.154748",
     "exception": false,
     "start_time": "2023-05-03T11:52:32.125823",
     "status": "completed"
    },
    "tags": []
   },
   "outputs": [],
   "source": [
    "df.drop(columns='Index', inplace=True)"
   ]
  },
  {
   "cell_type": "code",
   "execution_count": 5,
   "id": "a04f3ecd",
   "metadata": {
    "execution": {
     "iopub.execute_input": "2023-05-03T11:52:32.177464Z",
     "iopub.status.busy": "2023-05-03T11:52:32.176903Z",
     "iopub.status.idle": "2023-05-03T11:52:32.182420Z",
     "shell.execute_reply": "2023-05-03T11:52:32.181590Z"
    },
    "papermill": {
     "duration": 0.019791,
     "end_time": "2023-05-03T11:52:32.184826",
     "exception": false,
     "start_time": "2023-05-03T11:52:32.165035",
     "status": "completed"
    },
    "tags": []
   },
   "outputs": [],
   "source": [
    "df.rename(columns={'Height(Inches)':'Height',\n",
    "                   'Weight(Pounds)':'Weight'\n",
    "                  }, inplace=True)"
   ]
  },
  {
   "cell_type": "code",
   "execution_count": 6,
   "id": "30f782e8",
   "metadata": {
    "execution": {
     "iopub.execute_input": "2023-05-03T11:52:32.216518Z",
     "iopub.status.busy": "2023-05-03T11:52:32.214731Z",
     "iopub.status.idle": "2023-05-03T11:52:32.229181Z",
     "shell.execute_reply": "2023-05-03T11:52:32.228317Z"
    },
    "papermill": {
     "duration": 0.035307,
     "end_time": "2023-05-03T11:52:32.231315",
     "exception": false,
     "start_time": "2023-05-03T11:52:32.196008",
     "status": "completed"
    },
    "tags": []
   },
   "outputs": [
    {
     "data": {
      "text/html": [
       "<div>\n",
       "<style scoped>\n",
       "    .dataframe tbody tr th:only-of-type {\n",
       "        vertical-align: middle;\n",
       "    }\n",
       "\n",
       "    .dataframe tbody tr th {\n",
       "        vertical-align: top;\n",
       "    }\n",
       "\n",
       "    .dataframe thead th {\n",
       "        text-align: right;\n",
       "    }\n",
       "</style>\n",
       "<table border=\"1\" class=\"dataframe\">\n",
       "  <thead>\n",
       "    <tr style=\"text-align: right;\">\n",
       "      <th></th>\n",
       "      <th>Height</th>\n",
       "      <th>Weight</th>\n",
       "    </tr>\n",
       "  </thead>\n",
       "  <tbody>\n",
       "    <tr>\n",
       "      <th>0</th>\n",
       "      <td>65.78331</td>\n",
       "      <td>112.9925</td>\n",
       "    </tr>\n",
       "    <tr>\n",
       "      <th>1</th>\n",
       "      <td>71.51521</td>\n",
       "      <td>136.4873</td>\n",
       "    </tr>\n",
       "    <tr>\n",
       "      <th>2</th>\n",
       "      <td>69.39874</td>\n",
       "      <td>153.0269</td>\n",
       "    </tr>\n",
       "    <tr>\n",
       "      <th>3</th>\n",
       "      <td>68.21660</td>\n",
       "      <td>142.3354</td>\n",
       "    </tr>\n",
       "    <tr>\n",
       "      <th>4</th>\n",
       "      <td>67.78781</td>\n",
       "      <td>144.2971</td>\n",
       "    </tr>\n",
       "    <tr>\n",
       "      <th>...</th>\n",
       "      <td>...</td>\n",
       "      <td>...</td>\n",
       "    </tr>\n",
       "    <tr>\n",
       "      <th>24995</th>\n",
       "      <td>69.50215</td>\n",
       "      <td>118.0312</td>\n",
       "    </tr>\n",
       "    <tr>\n",
       "      <th>24996</th>\n",
       "      <td>64.54826</td>\n",
       "      <td>120.1932</td>\n",
       "    </tr>\n",
       "    <tr>\n",
       "      <th>24997</th>\n",
       "      <td>64.69855</td>\n",
       "      <td>118.2655</td>\n",
       "    </tr>\n",
       "    <tr>\n",
       "      <th>24998</th>\n",
       "      <td>67.52918</td>\n",
       "      <td>132.2682</td>\n",
       "    </tr>\n",
       "    <tr>\n",
       "      <th>24999</th>\n",
       "      <td>68.87761</td>\n",
       "      <td>124.8742</td>\n",
       "    </tr>\n",
       "  </tbody>\n",
       "</table>\n",
       "<p>25000 rows × 2 columns</p>\n",
       "</div>"
      ],
      "text/plain": [
       "         Height    Weight\n",
       "0      65.78331  112.9925\n",
       "1      71.51521  136.4873\n",
       "2      69.39874  153.0269\n",
       "3      68.21660  142.3354\n",
       "4      67.78781  144.2971\n",
       "...         ...       ...\n",
       "24995  69.50215  118.0312\n",
       "24996  64.54826  120.1932\n",
       "24997  64.69855  118.2655\n",
       "24998  67.52918  132.2682\n",
       "24999  68.87761  124.8742\n",
       "\n",
       "[25000 rows x 2 columns]"
      ]
     },
     "execution_count": 6,
     "metadata": {},
     "output_type": "execute_result"
    }
   ],
   "source": [
    "df"
   ]
  },
  {
   "cell_type": "code",
   "execution_count": 7,
   "id": "ffa72b24",
   "metadata": {
    "execution": {
     "iopub.execute_input": "2023-05-03T11:52:32.266202Z",
     "iopub.status.busy": "2023-05-03T11:52:32.264667Z",
     "iopub.status.idle": "2023-05-03T11:52:32.580046Z",
     "shell.execute_reply": "2023-05-03T11:52:32.578983Z"
    },
    "papermill": {
     "duration": 0.334384,
     "end_time": "2023-05-03T11:52:32.582539",
     "exception": false,
     "start_time": "2023-05-03T11:52:32.248155",
     "status": "completed"
    },
    "tags": []
   },
   "outputs": [
    {
     "data": {
      "image/png": "[encoded data removed]",
      "text/plain": [
       "<Figure size 640x480 with 1 Axes>"
      ]
     },
     "metadata": {},
     "output_type": "display_data"
    }
   ],
   "source": [
    "plt.scatter(df.Height, df.Weight)\n",
    "plt.xlabel(\"Weight\")\n",
    "plt.ylabel(\"Height\")\n",
    "plt.show()"
   ]
  },
  {
   "cell_type": "code",
   "execution_count": 8,
   "id": "2619171a",
   "metadata": {
    "execution": {
     "iopub.execute_input": "2023-05-03T11:52:32.607224Z",
     "iopub.status.busy": "2023-05-03T11:52:32.606755Z",
     "iopub.status.idle": "2023-05-03T11:52:32.624480Z",
     "shell.execute_reply": "2023-05-03T11:52:32.623012Z"
    },
    "papermill": {
     "duration": 0.032767,
     "end_time": "2023-05-03T11:52:32.626846",
     "exception": false,
     "start_time": "2023-05-03T11:52:32.594079",
     "status": "completed"
    },
    "tags": []
   },
   "outputs": [
    {
     "name": "stdout",
     "output_type": "stream",
     "text": [
      "<class 'pandas.core.frame.DataFrame'>\n",
      "RangeIndex: 25000 entries, 0 to 24999\n",
      "Data columns (total 2 columns):\n",
      " #   Column  Non-Null Count  Dtype  \n",
      "---  ------  --------------  -----  \n",
      " 0   Height  25000 non-null  float64\n",
      " 1   Weight  25000 non-null  float64\n",
      "dtypes: float64(2)\n",
      "memory usage: 390.8 KB\n"
     ]
    }
   ],
   "source": [
    "df.info()"
   ]
  },
  {
   "cell_type": "code",
   "execution_count": 9,
   "id": "ab15e707",
   "metadata": {
    "execution": {
     "iopub.execute_input": "2023-05-03T11:52:32.651273Z",
     "iopub.status.busy": "2023-05-03T11:52:32.650853Z",
     "iopub.status.idle": "2023-05-03T11:52:32.673355Z",
     "shell.execute_reply": "2023-05-03T11:52:32.672231Z"
    },
    "papermill": {
     "duration": 0.037577,
     "end_time": "2023-05-03T11:52:32.675901",
     "exception": false,
     "start_time": "2023-05-03T11:52:32.638324",
     "status": "completed"
    },
    "tags": []
   },
   "outputs": [
    {
     "data": {
      "text/html": [
       "<div>\n",
       "<style scoped>\n",
       "    .dataframe tbody tr th:only-of-type {\n",
       "        vertical-align: middle;\n",
       "    }\n",
       "\n",
       "    .dataframe tbody tr th {\n",
       "        vertical-align: top;\n",
       "    }\n",
       "\n",
       "    .dataframe thead th {\n",
       "        text-align: right;\n",
       "    }\n",
       "</style>\n",
       "<table border=\"1\" class=\"dataframe\">\n",
       "  <thead>\n",
       "    <tr style=\"text-align: right;\">\n",
       "      <th></th>\n",
       "      <th>Height</th>\n",
       "      <th>Weight</th>\n",
       "    </tr>\n",
       "  </thead>\n",
       "  <tbody>\n",
       "    <tr>\n",
       "      <th>count</th>\n",
       "      <td>25000.000000</td>\n",
       "      <td>25000.000000</td>\n",
       "    </tr>\n",
       "    <tr>\n",
       "      <th>mean</th>\n",
       "      <td>67.993114</td>\n",
       "      <td>127.079421</td>\n",
       "    </tr>\n",
       "    <tr>\n",
       "      <th>std</th>\n",
       "      <td>1.901679</td>\n",
       "      <td>11.660898</td>\n",
       "    </tr>\n",
       "    <tr>\n",
       "      <th>min</th>\n",
       "      <td>60.278360</td>\n",
       "      <td>78.014760</td>\n",
       "    </tr>\n",
       "    <tr>\n",
       "      <th>25%</th>\n",
       "      <td>66.704397</td>\n",
       "      <td>119.308675</td>\n",
       "    </tr>\n",
       "    <tr>\n",
       "      <th>50%</th>\n",
       "      <td>67.995700</td>\n",
       "      <td>127.157750</td>\n",
       "    </tr>\n",
       "    <tr>\n",
       "      <th>75%</th>\n",
       "      <td>69.272958</td>\n",
       "      <td>134.892850</td>\n",
       "    </tr>\n",
       "    <tr>\n",
       "      <th>max</th>\n",
       "      <td>75.152800</td>\n",
       "      <td>170.924000</td>\n",
       "    </tr>\n",
       "  </tbody>\n",
       "</table>\n",
       "</div>"
      ],
      "text/plain": [
       "             Height        Weight\n",
       "count  25000.000000  25000.000000\n",
       "mean      67.993114    127.079421\n",
       "std        1.901679     11.660898\n",
       "min       60.278360     78.014760\n",
       "25%       66.704397    119.308675\n",
       "50%       67.995700    127.157750\n",
       "75%       69.272958    134.892850\n",
       "max       75.152800    170.924000"
      ]
     },
     "execution_count": 9,
     "metadata": {},
     "output_type": "execute_result"
    }
   ],
   "source": [
    "df.describe()"
   ]
  },
  {
   "cell_type": "code",
   "execution_count": 10,
   "id": "665c3bf9",
   "metadata": {
    "execution": {
     "iopub.execute_input": "2023-05-03T11:52:32.701268Z",
     "iopub.status.busy": "2023-05-03T11:52:32.700474Z",
     "iopub.status.idle": "2023-05-03T11:52:32.709234Z",
     "shell.execute_reply": "2023-05-03T11:52:32.708216Z"
    },
    "papermill": {
     "duration": 0.024059,
     "end_time": "2023-05-03T11:52:32.711445",
     "exception": false,
     "start_time": "2023-05-03T11:52:32.687386",
     "status": "completed"
    },
    "tags": []
   },
   "outputs": [
    {
     "data": {
      "text/plain": [
       "Height    0\n",
       "Weight    0\n",
       "dtype: int64"
      ]
     },
     "execution_count": 10,
     "metadata": {},
     "output_type": "execute_result"
    }
   ],
   "source": [
    "df.isnull().sum()"
   ]
  },
  {
   "cell_type": "markdown",
   "id": "fac53511",
   "metadata": {
    "papermill": {
     "duration": 0.011201,
     "end_time": "2023-05-03T11:52:32.734204",
     "exception": false,
     "start_time": "2023-05-03T11:52:32.723003",
     "status": "completed"
    },
    "tags": []
   },
   "source": [
    "## Divided our dataset into Independent and Dependent Features"
   ]
  },
  {
   "cell_type": "code",
   "execution_count": 11,
   "id": "8de9950a",
   "metadata": {
    "execution": {
     "iopub.execute_input": "2023-05-03T11:52:32.759434Z",
     "iopub.status.busy": "2023-05-03T11:52:32.758666Z",
     "iopub.status.idle": "2023-05-03T11:52:32.764725Z",
     "shell.execute_reply": "2023-05-03T11:52:32.763884Z"
    },
    "papermill": {
     "duration": 0.021325,
     "end_time": "2023-05-03T11:52:32.767080",
     "exception": false,
     "start_time": "2023-05-03T11:52:32.745755",
     "status": "completed"
    },
    "tags": []
   },
   "outputs": [],
   "source": [
    "X = df[['Weight']] ## Independant Feature\n",
    "y = df['Height'] ## Depeendant Feature"
   ]
  },
  {
   "cell_type": "code",
   "execution_count": 12,
   "id": "3ec3fae2",
   "metadata": {
    "execution": {
     "iopub.execute_input": "2023-05-03T11:52:32.792655Z",
     "iopub.status.busy": "2023-05-03T11:52:32.791527Z",
     "iopub.status.idle": "2023-05-03T11:52:32.799178Z",
     "shell.execute_reply": "2023-05-03T11:52:32.798104Z"
    },
    "papermill": {
     "duration": 0.02305,
     "end_time": "2023-05-03T11:52:32.801535",
     "exception": false,
     "start_time": "2023-05-03T11:52:32.778485",
     "status": "completed"
    },
    "tags": []
   },
   "outputs": [
    {
     "data": {
      "text/plain": [
       "((25000, 1), (25000,))"
      ]
     },
     "execution_count": 12,
     "metadata": {},
     "output_type": "execute_result"
    }
   ],
   "source": [
    "X.shape, y.shape"
   ]
  },
  {
   "cell_type": "markdown",
   "id": "38fe92e7",
   "metadata": {
    "papermill": {
     "duration": 0.012063,
     "end_time": "2023-05-03T11:52:32.825529",
     "exception": false,
     "start_time": "2023-05-03T11:52:32.813466",
     "status": "completed"
    },
    "tags": []
   },
   "source": [
    "## Train Test Split"
   ]
  },
  {
   "cell_type": "code",
   "execution_count": 13,
   "id": "f6c5b990",
   "metadata": {
    "execution": {
     "iopub.execute_input": "2023-05-03T11:52:32.851453Z",
     "iopub.status.busy": "2023-05-03T11:52:32.850639Z",
     "iopub.status.idle": "2023-05-03T11:52:34.149366Z",
     "shell.execute_reply": "2023-05-03T11:52:34.148512Z"
    },
    "papermill": {
     "duration": 1.31449,
     "end_time": "2023-05-03T11:52:34.151780",
     "exception": false,
     "start_time": "2023-05-03T11:52:32.837290",
     "status": "completed"
    },
    "tags": []
   },
   "outputs": [
    {
     "name": "stderr",
     "output_type": "stream",
     "text": [
      "/opt/conda/lib/python3.10/site-packages/scipy/__init__.py:146: UserWarning: A NumPy version >=1.16.5 and <1.23.0 is required for this version of SciPy (detected version 1.23.5\n",
      "  warnings.warn(f\"A NumPy version >={np_minversion} and <{np_maxversion}\"\n"
     ]
    }
   ],
   "source": [
    "from sklearn.model_selection import train_test_split"
   ]
  },
  {
   "cell_type": "code",
   "execution_count": 14,
   "id": "91d5dcc1",
   "metadata": {
    "execution": {
     "iopub.execute_input": "2023-05-03T11:52:34.177554Z",
     "iopub.status.busy": "2023-05-03T11:52:34.176984Z",
     "iopub.status.idle": "2023-05-03T11:52:34.186234Z",
     "shell.execute_reply": "2023-05-03T11:52:34.185351Z"
    },
    "papermill": {
     "duration": 0.024795,
     "end_time": "2023-05-03T11:52:34.188468",
     "exception": false,
     "start_time": "2023-05-03T11:52:34.163673",
     "status": "completed"
    },
    "tags": []
   },
   "outputs": [],
   "source": [
    "X_train, X_test, y_train, y_test =train_test_split(X,y,test_size=0.2,random_state=42)"
   ]
  },
  {
   "cell_type": "code",
   "execution_count": 15,
   "id": "bb402448",
   "metadata": {
    "execution": {
     "iopub.execute_input": "2023-05-03T11:52:34.213956Z",
     "iopub.status.busy": "2023-05-03T11:52:34.213278Z",
     "iopub.status.idle": "2023-05-03T11:52:34.219987Z",
     "shell.execute_reply": "2023-05-03T11:52:34.219003Z"
    },
    "papermill": {
     "duration": 0.022023,
     "end_time": "2023-05-03T11:52:34.222155",
     "exception": false,
     "start_time": "2023-05-03T11:52:34.200132",
     "status": "completed"
    },
    "tags": []
   },
   "outputs": [
    {
     "data": {
      "text/plain": [
       "((20000, 1), (5000, 1))"
      ]
     },
     "execution_count": 15,
     "metadata": {},
     "output_type": "execute_result"
    }
   ],
   "source": [
    "X_train.shape, X_test.shape"
   ]
  },
  {
   "cell_type": "code",
   "execution_count": 16,
   "id": "d8de7c95",
   "metadata": {
    "execution": {
     "iopub.execute_input": "2023-05-03T11:52:34.248180Z",
     "iopub.status.busy": "2023-05-03T11:52:34.247812Z",
     "iopub.status.idle": "2023-05-03T11:52:34.254616Z",
     "shell.execute_reply": "2023-05-03T11:52:34.253309Z"
    },
    "papermill": {
     "duration": 0.022477,
     "end_time": "2023-05-03T11:52:34.256797",
     "exception": false,
     "start_time": "2023-05-03T11:52:34.234320",
     "status": "completed"
    },
    "tags": []
   },
   "outputs": [
    {
     "data": {
      "text/plain": [
       "((20000,), (5000,))"
      ]
     },
     "execution_count": 16,
     "metadata": {},
     "output_type": "execute_result"
    }
   ],
   "source": [
    "y_train.shape, y_test.shape"
   ]
  },
  {
   "cell_type": "markdown",
   "id": "4873ef64",
   "metadata": {
    "papermill": {
     "duration": 0.012187,
     "end_time": "2023-05-03T11:52:34.281041",
     "exception": false,
     "start_time": "2023-05-03T11:52:34.268854",
     "status": "completed"
    },
    "tags": []
   },
   "source": [
    "## Standard Scaler"
   ]
  },
  {
   "cell_type": "code",
   "execution_count": 17,
   "id": "7292b4a0",
   "metadata": {
    "execution": {
     "iopub.execute_input": "2023-05-03T11:52:34.306819Z",
     "iopub.status.busy": "2023-05-03T11:52:34.306160Z",
     "iopub.status.idle": "2023-05-03T11:52:34.311003Z",
     "shell.execute_reply": "2023-05-03T11:52:34.309907Z"
    },
    "papermill": {
     "duration": 0.020225,
     "end_time": "2023-05-03T11:52:34.313270",
     "exception": false,
     "start_time": "2023-05-03T11:52:34.293045",
     "status": "completed"
    },
    "tags": []
   },
   "outputs": [],
   "source": [
    "from sklearn.preprocessing import StandardScaler"
   ]
  },
  {
   "cell_type": "code",
   "execution_count": 18,
   "id": "71292a57",
   "metadata": {
    "execution": {
     "iopub.execute_input": "2023-05-03T11:52:34.338632Z",
     "iopub.status.busy": "2023-05-03T11:52:34.338171Z",
     "iopub.status.idle": "2023-05-03T11:52:34.343290Z",
     "shell.execute_reply": "2023-05-03T11:52:34.342066Z"
    },
    "papermill": {
     "duration": 0.020056,
     "end_time": "2023-05-03T11:52:34.345308",
     "exception": false,
     "start_time": "2023-05-03T11:52:34.325252",
     "status": "completed"
    },
    "tags": []
   },
   "outputs": [],
   "source": [
    "scaler = StandardScaler()"
   ]
  },
  {
   "cell_type": "code",
   "execution_count": 19,
   "id": "f3964c5f",
   "metadata": {
    "execution": {
     "iopub.execute_input": "2023-05-03T11:52:34.371912Z",
     "iopub.status.busy": "2023-05-03T11:52:34.371181Z",
     "iopub.status.idle": "2023-05-03T11:52:34.380484Z",
     "shell.execute_reply": "2023-05-03T11:52:34.379436Z"
    },
    "papermill": {
     "duration": 0.025702,
     "end_time": "2023-05-03T11:52:34.382930",
     "exception": false,
     "start_time": "2023-05-03T11:52:34.357228",
     "status": "completed"
    },
    "tags": []
   },
   "outputs": [],
   "source": [
    "X_train = scaler.fit_transform(X_train)"
   ]
  },
  {
   "cell_type": "code",
   "execution_count": 20,
   "id": "a868ffd7",
   "metadata": {
    "execution": {
     "iopub.execute_input": "2023-05-03T11:52:34.409072Z",
     "iopub.status.busy": "2023-05-03T11:52:34.408294Z",
     "iopub.status.idle": "2023-05-03T11:52:34.414767Z",
     "shell.execute_reply": "2023-05-03T11:52:34.413379Z"
    },
    "papermill": {
     "duration": 0.022275,
     "end_time": "2023-05-03T11:52:34.417235",
     "exception": false,
     "start_time": "2023-05-03T11:52:34.394960",
     "status": "completed"
    },
    "tags": []
   },
   "outputs": [],
   "source": [
    "X_test = scaler.transform(X_test)"
   ]
  },
  {
   "cell_type": "code",
   "execution_count": 21,
   "id": "0bb92bc5",
   "metadata": {
    "execution": {
     "iopub.execute_input": "2023-05-03T11:52:34.442939Z",
     "iopub.status.busy": "2023-05-03T11:52:34.442533Z",
     "iopub.status.idle": "2023-05-03T11:52:34.449547Z",
     "shell.execute_reply": "2023-05-03T11:52:34.448423Z"
    },
    "papermill": {
     "duration": 0.02253,
     "end_time": "2023-05-03T11:52:34.451819",
     "exception": false,
     "start_time": "2023-05-03T11:52:34.429289",
     "status": "completed"
    },
    "tags": []
   },
   "outputs": [
    {
     "data": {
      "text/plain": [
       "array([[ 0.61959496],\n",
       "       [-1.29909507],\n",
       "       [ 0.76587649],\n",
       "       ...,\n",
       "       [ 1.212802  ],\n",
       "       [ 0.21044337],\n",
       "       [ 0.65975876]])"
      ]
     },
     "execution_count": 21,
     "metadata": {},
     "output_type": "execute_result"
    }
   ],
   "source": [
    "X_test"
   ]
  },
  {
   "cell_type": "code",
   "execution_count": 22,
   "id": "a73b07b4",
   "metadata": {
    "execution": {
     "iopub.execute_input": "2023-05-03T11:52:34.478798Z",
     "iopub.status.busy": "2023-05-03T11:52:34.477824Z",
     "iopub.status.idle": "2023-05-03T11:52:34.830735Z",
     "shell.execute_reply": "2023-05-03T11:52:34.829342Z"
    },
    "papermill": {
     "duration": 0.368687,
     "end_time": "2023-05-03T11:52:34.833229",
     "exception": false,
     "start_time": "2023-05-03T11:52:34.464542",
     "status": "completed"
    },
    "tags": []
   },
   "outputs": [
    {
     "data": {
      "text/plain": [
       "<matplotlib.collections.PathCollection at 0x7d265f996c20>"
      ]
     },
     "execution_count": 22,
     "metadata": {},
     "output_type": "execute_result"
    },
    {
     "data": {
      "image/png": "[encoded data removed]",
      "text/plain": [
       "<Figure size 640x480 with 1 Axes>"
      ]
     },
     "metadata": {},
     "output_type": "display_data"
    }
   ],
   "source": [
    "plt.scatter(X_train,y_train)"
   ]
  },
  {
   "cell_type": "markdown",
   "id": "0e1b1084",
   "metadata": {
    "papermill": {
     "duration": 0.012451,
     "end_time": "2023-05-03T11:52:34.858416",
     "exception": false,
     "start_time": "2023-05-03T11:52:34.845965",
     "status": "completed"
    },
    "tags": []
   },
   "source": [
    "## Model Training"
   ]
  },
  {
   "cell_type": "code",
   "execution_count": 23,
   "id": "e5ac617f",
   "metadata": {
    "execution": {
     "iopub.execute_input": "2023-05-03T11:52:34.886403Z",
     "iopub.status.busy": "2023-05-03T11:52:34.885588Z",
     "iopub.status.idle": "2023-05-03T11:52:34.995867Z",
     "shell.execute_reply": "2023-05-03T11:52:34.994535Z"
    },
    "papermill": {
     "duration": 0.127604,
     "end_time": "2023-05-03T11:52:34.998761",
     "exception": false,
     "start_time": "2023-05-03T11:52:34.871157",
     "status": "completed"
    },
    "tags": []
   },
   "outputs": [],
   "source": [
    "from sklearn.linear_model import LinearRegression"
   ]
  },
  {
   "cell_type": "code",
   "execution_count": 24,
   "id": "92cd8aba",
   "metadata": {
    "execution": {
     "iopub.execute_input": "2023-05-03T11:52:35.025943Z",
     "iopub.status.busy": "2023-05-03T11:52:35.025530Z",
     "iopub.status.idle": "2023-05-03T11:52:35.030429Z",
     "shell.execute_reply": "2023-05-03T11:52:35.029511Z"
    },
    "papermill": {
     "duration": 0.020817,
     "end_time": "2023-05-03T11:52:35.032482",
     "exception": false,
     "start_time": "2023-05-03T11:52:35.011665",
     "status": "completed"
    },
    "tags": []
   },
   "outputs": [],
   "source": [
    "regressor = LinearRegression()"
   ]
  },
  {
   "cell_type": "markdown",
   "id": "474f840b",
   "metadata": {
    "papermill": {
     "duration": 0.012164,
     "end_time": "2023-05-03T11:52:35.057255",
     "exception": false,
     "start_time": "2023-05-03T11:52:35.045091",
     "status": "completed"
    },
    "tags": []
   },
   "source": [
    "## Training the train Data"
   ]
  },
  {
   "cell_type": "code",
   "execution_count": 25,
   "id": "946c7964",
   "metadata": {
    "execution": {
     "iopub.execute_input": "2023-05-03T11:52:35.085362Z",
     "iopub.status.busy": "2023-05-03T11:52:35.084315Z",
     "iopub.status.idle": "2023-05-03T11:52:35.115927Z",
     "shell.execute_reply": "2023-05-03T11:52:35.114866Z"
    },
    "papermill": {
     "duration": 0.048106,
     "end_time": "2023-05-03T11:52:35.118083",
     "exception": false,
     "start_time": "2023-05-03T11:52:35.069977",
     "status": "completed"
    },
    "tags": []
   },
   "outputs": [
    {
     "data": {
      "text/html": [
       "<style>#sk-container-id-1 {color: black;background-color: white;}#sk-container-id-1 pre{padding: 0;}#sk-container-id-1 div.sk-toggleable {background-color: white;}#sk-container-id-1 label.sk-toggleable__label {cursor: pointer;display: block;width: 100%;margin-bottom: 0;padding: 0.3em;box-sizing: border-box;text-align: center;}#sk-container-id-1 label.sk-toggleable__label-arrow:before {content: \"▸\";float: left;margin-right: 0.25em;color: #696969;}#sk-container-id-1 label.sk-toggleable__label-arrow:hover:before {color: black;}#sk-container-id-1 div.sk-estimator:hover label.sk-toggleable__label-arrow:before {color: black;}#sk-container-id-1 div.sk-toggleable__content {max-height: 0;max-width: 0;overflow: hidden;text-align: left;background-color: #f0f8ff;}#sk-container-id-1 div.sk-toggleable__content pre {margin: 0.2em;color: black;border-radius: 0.25em;background-color: #f0f8ff;}#sk-container-id-1 input.sk-toggleable__control:checked~div.sk-toggleable__content {max-height: 200px;max-width: 100%;overflow: auto;}#sk-container-id-1 input.sk-toggleable__control:checked~label.sk-toggleable__label-arrow:before {content: \"▾\";}#sk-container-id-1 div.sk-estimator input.sk-toggleable__control:checked~label.sk-toggleable__label {background-color: #d4ebff;}#sk-container-id-1 div.sk-label input.sk-toggleable__control:checked~label.sk-toggleable__label {background-color: #d4ebff;}#sk-container-id-1 input.sk-hidden--visually {border: 0;clip: rect(1px 1px 1px 1px);clip: rect(1px, 1px, 1px, 1px);height: 1px;margin: -1px;overflow: hidden;padding: 0;position: absolute;width: 1px;}#sk-container-id-1 div.sk-estimator {font-family: monospace;background-color: #f0f8ff;border: 1px dotted black;border-radius: 0.25em;box-sizing: border-box;margin-bottom: 0.5em;}#sk-container-id-1 div.sk-estimator:hover {background-color: #d4ebff;}#sk-container-id-1 div.sk-parallel-item::after {content: \"\";width: 100%;border-bottom: 1px solid gray;flex-grow: 1;}#sk-container-id-1 div.sk-label:hover label.sk-toggleable__label {background-color: #d4ebff;}#sk-container-id-1 div.sk-serial::before {content: \"\";position: absolute;border-left: 1px solid gray;box-sizing: border-box;top: 0;bottom: 0;left: 50%;z-index: 0;}#sk-container-id-1 div.sk-serial {display: flex;flex-direction: column;align-items: center;background-color: white;padding-right: 0.2em;padding-left: 0.2em;position: relative;}#sk-container-id-1 div.sk-item {position: relative;z-index: 1;}#sk-container-id-1 div.sk-parallel {display: flex;align-items: stretch;justify-content: center;background-color: white;position: relative;}#sk-container-id-1 div.sk-item::before, #sk-container-id-1 div.sk-parallel-item::before {content: \"\";position: absolute;border-left: 1px solid gray;box-sizing: border-box;top: 0;bottom: 0;left: 50%;z-index: -1;}#sk-container-id-1 div.sk-parallel-item {display: flex;flex-direction: column;z-index: 1;position: relative;background-color: white;}#sk-container-id-1 div.sk-parallel-item:first-child::after {align-self: flex-end;width: 50%;}#sk-container-id-1 div.sk-parallel-item:last-child::after {align-self: flex-start;width: 50%;}#sk-container-id-1 div.sk-parallel-item:only-child::after {width: 0;}#sk-container-id-1 div.sk-dashed-wrapped {border: 1px dashed gray;margin: 0 0.4em 0.5em 0.4em;box-sizing: border-box;padding-bottom: 0.4em;background-color: white;}#sk-container-id-1 div.sk-label label {font-family: monospace;font-weight: bold;display: inline-block;line-height: 1.2em;}#sk-container-id-1 div.sk-label-container {text-align: center;}#sk-container-id-1 div.sk-container {/* jupyter's `normalize.less` sets `[hidden] { display: none; }` but bootstrap.min.css set `[hidden] { display: none !important; }` so we also need the `!important` here to be able to override the default hidden behavior on the sphinx rendered scikit-learn.org. See: https://github.com/scikit-learn/scikit-learn/issues/21755 */display: inline-block !important;position: relative;}#sk-container-id-1 div.sk-text-repr-fallback {display: none;}</style><div id=\"sk-container-id-1\" class=\"sk-top-container\"><div class=\"sk-text-repr-fallback\"><pre>LinearRegression()</pre><b>In a Jupyter environment, please rerun this cell to show the HTML representation or trust the notebook. <br />On GitHub, the HTML representation is unable to render, please try loading this page with nbviewer.org.</b></div><div class=\"sk-container\" hidden><div class=\"sk-item\"><div class=\"sk-estimator sk-toggleable\"><input class=\"sk-toggleable__control sk-hidden--visually\" id=\"sk-estimator-id-1\" type=\"checkbox\" checked><label for=\"sk-estimator-id-1\" class=\"sk-toggleable__label sk-toggleable__label-arrow\">LinearRegression</label><div class=\"sk-toggleable__content\"><pre>LinearRegression()</pre></div></div></div></div></div>"
      ],
      "text/plain": [
       "LinearRegression()"
      ]
     },
     "execution_count": 25,
     "metadata": {},
     "output_type": "execute_result"
    }
   ],
   "source": [
    "regressor.fit(X_train,y_train)"
   ]
  },
  {
   "cell_type": "code",
   "execution_count": 26,
   "id": "3c1fe851",
   "metadata": {
    "execution": {
     "iopub.execute_input": "2023-05-03T11:52:35.146340Z",
     "iopub.status.busy": "2023-05-03T11:52:35.145550Z",
     "iopub.status.idle": "2023-05-03T11:52:35.151495Z",
     "shell.execute_reply": "2023-05-03T11:52:35.150772Z"
    },
    "papermill": {
     "duration": 0.022511,
     "end_time": "2023-05-03T11:52:35.153611",
     "exception": false,
     "start_time": "2023-05-03T11:52:35.131100",
     "status": "completed"
    },
    "tags": []
   },
   "outputs": [
    {
     "data": {
      "text/plain": [
       "67.99034523350001"
      ]
     },
     "execution_count": 26,
     "metadata": {},
     "output_type": "execute_result"
    }
   ],
   "source": [
    "regressor.intercept_"
   ]
  },
  {
   "cell_type": "code",
   "execution_count": 27,
   "id": "732ca8f1",
   "metadata": {
    "execution": {
     "iopub.execute_input": "2023-05-03T11:52:35.182035Z",
     "iopub.status.busy": "2023-05-03T11:52:35.181383Z",
     "iopub.status.idle": "2023-05-03T11:52:35.187240Z",
     "shell.execute_reply": "2023-05-03T11:52:35.186239Z"
    },
    "papermill": {
     "duration": 0.022399,
     "end_time": "2023-05-03T11:52:35.189235",
     "exception": false,
     "start_time": "2023-05-03T11:52:35.166836",
     "status": "completed"
    },
    "tags": []
   },
   "outputs": [
    {
     "data": {
      "text/plain": [
       "array([0.95022131])"
      ]
     },
     "execution_count": 27,
     "metadata": {},
     "output_type": "execute_result"
    }
   ],
   "source": [
    "regressor.coef_"
   ]
  },
  {
   "cell_type": "code",
   "execution_count": 28,
   "id": "52f4ac3c",
   "metadata": {
    "execution": {
     "iopub.execute_input": "2023-05-03T11:52:35.217826Z",
     "iopub.status.busy": "2023-05-03T11:52:35.217216Z",
     "iopub.status.idle": "2023-05-03T11:52:35.574884Z",
     "shell.execute_reply": "2023-05-03T11:52:35.573585Z"
    },
    "papermill": {
     "duration": 0.374862,
     "end_time": "2023-05-03T11:52:35.577431",
     "exception": false,
     "start_time": "2023-05-03T11:52:35.202569",
     "status": "completed"
    },
    "tags": []
   },
   "outputs": [
    {
     "data": {
      "text/plain": [
       "[<matplotlib.lines.Line2D at 0x7d264bfe8a60>]"
      ]
     },
     "execution_count": 28,
     "metadata": {},
     "output_type": "execute_result"
    },
    {
     "data": {
      "image/png": "[encoded data removed]",
      "text/plain": [
       "<Figure size 640x480 with 1 Axes>"
      ]
     },
     "metadata": {},
     "output_type": "display_data"
    }
   ],
   "source": [
    "plt.scatter(X_train,y_train)\n",
    "plt.plot(X_train,regressor.predict(X_train),'r') "
   ]
  },
  {
   "cell_type": "markdown",
   "id": "d4aaed2f",
   "metadata": {
    "papermill": {
     "duration": 0.013979,
     "end_time": "2023-05-03T11:52:35.605832",
     "exception": false,
     "start_time": "2023-05-03T11:52:35.591853",
     "status": "completed"
    },
    "tags": []
   },
   "source": [
    "## Prediction of train Data\n",
    "     1. Predicted height output = intercept + coef_(Weight)\n",
    "     2. y_pred_train = 67.99034523350001 + 0.95022131 (X_train)\n",
    "## Prediction of test Data\n",
    "     \n",
    "     1. Predicted height output = intercept + coef_(weight)\n",
    "     2. y_pred_test = 67.99034523350001 + 0.95022131 (X_test)"
   ]
  },
  {
   "cell_type": "code",
   "execution_count": null,
   "id": "9f97d7b3",
   "metadata": {
    "papermill": {
     "duration": 0.014008,
     "end_time": "2023-05-03T11:52:35.634012",
     "exception": false,
     "start_time": "2023-05-03T11:52:35.620004",
     "status": "completed"
    },
    "tags": []
   },
   "outputs": [],
   "source": []
  },
  {
   "cell_type": "markdown",
   "id": "383783f2",
   "metadata": {
    "papermill": {
     "duration": 0.013849,
     "end_time": "2023-05-03T11:52:35.662182",
     "exception": false,
     "start_time": "2023-05-03T11:52:35.648333",
     "status": "completed"
    },
    "tags": []
   },
   "source": [
    "## Prediction for test Data"
   ]
  },
  {
   "cell_type": "code",
   "execution_count": 29,
   "id": "2f50bd6d",
   "metadata": {
    "execution": {
     "iopub.execute_input": "2023-05-03T11:52:35.692264Z",
     "iopub.status.busy": "2023-05-03T11:52:35.691861Z",
     "iopub.status.idle": "2023-05-03T11:52:35.697259Z",
     "shell.execute_reply": "2023-05-03T11:52:35.696146Z"
    },
    "papermill": {
     "duration": 0.023114,
     "end_time": "2023-05-03T11:52:35.699363",
     "exception": false,
     "start_time": "2023-05-03T11:52:35.676249",
     "status": "completed"
    },
    "tags": []
   },
   "outputs": [],
   "source": [
    "y_pred_test = regressor.predict(X_test)"
   ]
  },
  {
   "cell_type": "code",
   "execution_count": 30,
   "id": "4ede2b98",
   "metadata": {
    "execution": {
     "iopub.execute_input": "2023-05-03T11:52:35.729388Z",
     "iopub.status.busy": "2023-05-03T11:52:35.729029Z",
     "iopub.status.idle": "2023-05-03T11:52:35.736091Z",
     "shell.execute_reply": "2023-05-03T11:52:35.734794Z"
    },
    "papermill": {
     "duration": 0.024593,
     "end_time": "2023-05-03T11:52:35.738252",
     "exception": false,
     "start_time": "2023-05-03T11:52:35.713659",
     "status": "completed"
    },
    "tags": []
   },
   "outputs": [
    {
     "data": {
      "text/plain": [
       "array([68.57909757, 66.75591741, 68.7180974 , ..., 69.14277554,\n",
       "       68.19031301, 68.61726207])"
      ]
     },
     "execution_count": 30,
     "metadata": {},
     "output_type": "execute_result"
    }
   ],
   "source": [
    "y_pred_test"
   ]
  },
  {
   "cell_type": "markdown",
   "id": "995ae0d2",
   "metadata": {
    "papermill": {
     "duration": 0.014204,
     "end_time": "2023-05-03T11:52:35.767447",
     "exception": false,
     "start_time": "2023-05-03T11:52:35.753243",
     "status": "completed"
    },
    "tags": []
   },
   "source": [
    "## Performace Metrice (MAE,MSE, RMSE)"
   ]
  },
  {
   "cell_type": "code",
   "execution_count": 31,
   "id": "1a0baa11",
   "metadata": {
    "execution": {
     "iopub.execute_input": "2023-05-03T11:52:35.798940Z",
     "iopub.status.busy": "2023-05-03T11:52:35.797969Z",
     "iopub.status.idle": "2023-05-03T11:52:35.802493Z",
     "shell.execute_reply": "2023-05-03T11:52:35.801686Z"
    },
    "papermill": {
     "duration": 0.02271,
     "end_time": "2023-05-03T11:52:35.804745",
     "exception": false,
     "start_time": "2023-05-03T11:52:35.782035",
     "status": "completed"
    },
    "tags": []
   },
   "outputs": [],
   "source": [
    "from sklearn.metrics import mean_squared_error, mean_absolute_error"
   ]
  },
  {
   "cell_type": "code",
   "execution_count": 32,
   "id": "ce2b20ba",
   "metadata": {
    "execution": {
     "iopub.execute_input": "2023-05-03T11:52:35.834822Z",
     "iopub.status.busy": "2023-05-03T11:52:35.834409Z",
     "iopub.status.idle": "2023-05-03T11:52:35.841609Z",
     "shell.execute_reply": "2023-05-03T11:52:35.840197Z"
    },
    "papermill": {
     "duration": 0.024929,
     "end_time": "2023-05-03T11:52:35.843858",
     "exception": false,
     "start_time": "2023-05-03T11:52:35.818929",
     "status": "completed"
    },
    "tags": []
   },
   "outputs": [
    {
     "name": "stdout",
     "output_type": "stream",
     "text": [
      "2.7249628460650364 1.3163040569300668 1.1473029490636144\n"
     ]
    }
   ],
   "source": [
    "mse = mean_squared_error(y_test,y_pred_test)\n",
    "mae = mean_absolute_error(y_test,y_pred_test)\n",
    "rmse = np.sqrt(mae)\n",
    "print(mse, mae,rmse)"
   ]
  },
  {
   "cell_type": "markdown",
   "id": "083cd69a",
   "metadata": {
    "papermill": {
     "duration": 0.014507,
     "end_time": "2023-05-03T11:52:35.872560",
     "exception": false,
     "start_time": "2023-05-03T11:52:35.858053",
     "status": "completed"
    },
    "tags": []
   },
   "source": [
    "## Accuracy of the Model R Squared and Adjuested R Squared"
   ]
  },
  {
   "cell_type": "markdown",
   "id": "2f934ce5",
   "metadata": {
    "papermill": {
     "duration": 0.013756,
     "end_time": "2023-05-03T11:52:35.900570",
     "exception": false,
     "start_time": "2023-05-03T11:52:35.886814",
     "status": "completed"
    },
    "tags": []
   },
   "source": [
    "## R Squared\n"
   ]
  },
  {
   "cell_type": "code",
   "execution_count": 33,
   "id": "0fec174d",
   "metadata": {
    "execution": {
     "iopub.execute_input": "2023-05-03T11:52:35.931184Z",
     "iopub.status.busy": "2023-05-03T11:52:35.930144Z",
     "iopub.status.idle": "2023-05-03T11:52:35.935235Z",
     "shell.execute_reply": "2023-05-03T11:52:35.934435Z"
    },
    "papermill": {
     "duration": 0.022646,
     "end_time": "2023-05-03T11:52:35.937314",
     "exception": false,
     "start_time": "2023-05-03T11:52:35.914668",
     "status": "completed"
    },
    "tags": []
   },
   "outputs": [],
   "source": [
    "from sklearn.metrics import r2_score\n"
   ]
  },
  {
   "cell_type": "code",
   "execution_count": 34,
   "id": "01ee5f82",
   "metadata": {
    "execution": {
     "iopub.execute_input": "2023-05-03T11:52:35.967735Z",
     "iopub.status.busy": "2023-05-03T11:52:35.967307Z",
     "iopub.status.idle": "2023-05-03T11:52:35.973548Z",
     "shell.execute_reply": "2023-05-03T11:52:35.972628Z"
    },
    "papermill": {
     "duration": 0.02422,
     "end_time": "2023-05-03T11:52:35.975846",
     "exception": false,
     "start_time": "2023-05-03T11:52:35.951626",
     "status": "completed"
    },
    "tags": []
   },
   "outputs": [],
   "source": [
    "score = r2_score(y_test,y_pred_test)"
   ]
  },
  {
   "cell_type": "code",
   "execution_count": 35,
   "id": "1b3b42bb",
   "metadata": {
    "execution": {
     "iopub.execute_input": "2023-05-03T11:52:36.008242Z",
     "iopub.status.busy": "2023-05-03T11:52:36.006977Z",
     "iopub.status.idle": "2023-05-03T11:52:36.014153Z",
     "shell.execute_reply": "2023-05-03T11:52:36.012879Z"
    },
    "papermill": {
     "duration": 0.026214,
     "end_time": "2023-05-03T11:52:36.016785",
     "exception": false,
     "start_time": "2023-05-03T11:52:35.990571",
     "status": "completed"
    },
    "tags": []
   },
   "outputs": [
    {
     "data": {
      "text/plain": [
       "0.2605563163045014"
      ]
     },
     "execution_count": 35,
     "metadata": {},
     "output_type": "execute_result"
    }
   ],
   "source": [
    "score"
   ]
  },
  {
   "cell_type": "markdown",
   "id": "9d5dfd4f",
   "metadata": {
    "papermill": {
     "duration": 0.01432,
     "end_time": "2023-05-03T11:52:36.045745",
     "exception": false,
     "start_time": "2023-05-03T11:52:36.031425",
     "status": "completed"
    },
    "tags": []
   },
   "source": [
    "## Adjusted R Square"
   ]
  },
  {
   "cell_type": "code",
   "execution_count": null,
   "id": "3940577d",
   "metadata": {
    "papermill": {
     "duration": 0.014979,
     "end_time": "2023-05-03T11:52:36.075148",
     "exception": false,
     "start_time": "2023-05-03T11:52:36.060169",
     "status": "completed"
    },
    "tags": []
   },
   "outputs": [],
   "source": []
  },
  {
   "cell_type": "code",
   "execution_count": null,
   "id": "b58666a8",
   "metadata": {
    "papermill": {
     "duration": 0.014383,
     "end_time": "2023-05-03T11:52:36.104924",
     "exception": false,
     "start_time": "2023-05-03T11:52:36.090541",
     "status": "completed"
    },
    "tags": []
   },
   "outputs": [],
   "source": []
  },
  {
   "cell_type": "code",
   "execution_count": 36,
   "id": "e915dd74",
   "metadata": {
    "execution": {
     "iopub.execute_input": "2023-05-03T11:52:36.138016Z",
     "iopub.status.busy": "2023-05-03T11:52:36.137581Z",
     "iopub.status.idle": "2023-05-03T11:52:36.145338Z",
     "shell.execute_reply": "2023-05-03T11:52:36.144123Z"
    },
    "papermill": {
     "duration": 0.026967,
     "end_time": "2023-05-03T11:52:36.147853",
     "exception": false,
     "start_time": "2023-05-03T11:52:36.120886",
     "status": "completed"
    },
    "tags": []
   },
   "outputs": [
    {
     "data": {
      "text/html": [
       "<style>#sk-container-id-2 {color: black;background-color: white;}#sk-container-id-2 pre{padding: 0;}#sk-container-id-2 div.sk-toggleable {background-color: white;}#sk-container-id-2 label.sk-toggleable__label {cursor: pointer;display: block;width: 100%;margin-bottom: 0;padding: 0.3em;box-sizing: border-box;text-align: center;}#sk-container-id-2 label.sk-toggleable__label-arrow:before {content: \"▸\";float: left;margin-right: 0.25em;color: #696969;}#sk-container-id-2 label.sk-toggleable__label-arrow:hover:before {color: black;}#sk-container-id-2 div.sk-estimator:hover label.sk-toggleable__label-arrow:before {color: black;}#sk-container-id-2 div.sk-toggleable__content {max-height: 0;max-width: 0;overflow: hidden;text-align: left;background-color: #f0f8ff;}#sk-container-id-2 div.sk-toggleable__content pre {margin: 0.2em;color: black;border-radius: 0.25em;background-color: #f0f8ff;}#sk-container-id-2 input.sk-toggleable__control:checked~div.sk-toggleable__content {max-height: 200px;max-width: 100%;overflow: auto;}#sk-container-id-2 input.sk-toggleable__control:checked~label.sk-toggleable__label-arrow:before {content: \"▾\";}#sk-container-id-2 div.sk-estimator input.sk-toggleable__control:checked~label.sk-toggleable__label {background-color: #d4ebff;}#sk-container-id-2 div.sk-label input.sk-toggleable__control:checked~label.sk-toggleable__label {background-color: #d4ebff;}#sk-container-id-2 input.sk-hidden--visually {border: 0;clip: rect(1px 1px 1px 1px);clip: rect(1px, 1px, 1px, 1px);height: 1px;margin: -1px;overflow: hidden;padding: 0;position: absolute;width: 1px;}#sk-container-id-2 div.sk-estimator {font-family: monospace;background-color: #f0f8ff;border: 1px dotted black;border-radius: 0.25em;box-sizing: border-box;margin-bottom: 0.5em;}#sk-container-id-2 div.sk-estimator:hover {background-color: #d4ebff;}#sk-container-id-2 div.sk-parallel-item::after {content: \"\";width: 100%;border-bottom: 1px solid gray;flex-grow: 1;}#sk-container-id-2 div.sk-label:hover label.sk-toggleable__label {background-color: #d4ebff;}#sk-container-id-2 div.sk-serial::before {content: \"\";position: absolute;border-left: 1px solid gray;box-sizing: border-box;top: 0;bottom: 0;left: 50%;z-index: 0;}#sk-container-id-2 div.sk-serial {display: flex;flex-direction: column;align-items: center;background-color: white;padding-right: 0.2em;padding-left: 0.2em;position: relative;}#sk-container-id-2 div.sk-item {position: relative;z-index: 1;}#sk-container-id-2 div.sk-parallel {display: flex;align-items: stretch;justify-content: center;background-color: white;position: relative;}#sk-container-id-2 div.sk-item::before, #sk-container-id-2 div.sk-parallel-item::before {content: \"\";position: absolute;border-left: 1px solid gray;box-sizing: border-box;top: 0;bottom: 0;left: 50%;z-index: -1;}#sk-container-id-2 div.sk-parallel-item {display: flex;flex-direction: column;z-index: 1;position: relative;background-color: white;}#sk-container-id-2 div.sk-parallel-item:first-child::after {align-self: flex-end;width: 50%;}#sk-container-id-2 div.sk-parallel-item:last-child::after {align-self: flex-start;width: 50%;}#sk-container-id-2 div.sk-parallel-item:only-child::after {width: 0;}#sk-container-id-2 div.sk-dashed-wrapped {border: 1px dashed gray;margin: 0 0.4em 0.5em 0.4em;box-sizing: border-box;padding-bottom: 0.4em;background-color: white;}#sk-container-id-2 div.sk-label label {font-family: monospace;font-weight: bold;display: inline-block;line-height: 1.2em;}#sk-container-id-2 div.sk-label-container {text-align: center;}#sk-container-id-2 div.sk-container {/* jupyter's `normalize.less` sets `[hidden] { display: none; }` but bootstrap.min.css set `[hidden] { display: none !important; }` so we also need the `!important` here to be able to override the default hidden behavior on the sphinx rendered scikit-learn.org. See: https://github.com/scikit-learn/scikit-learn/issues/21755 */display: inline-block !important;position: relative;}#sk-container-id-2 div.sk-text-repr-fallback {display: none;}</style><div id=\"sk-container-id-2\" class=\"sk-top-container\"><div class=\"sk-text-repr-fallback\"><pre>StandardScaler()</pre><b>In a Jupyter environment, please rerun this cell to show the HTML representation or trust the notebook. <br />On GitHub, the HTML representation is unable to render, please try loading this page with nbviewer.org.</b></div><div class=\"sk-container\" hidden><div class=\"sk-item\"><div class=\"sk-estimator sk-toggleable\"><input class=\"sk-toggleable__control sk-hidden--visually\" id=\"sk-estimator-id-2\" type=\"checkbox\" checked><label for=\"sk-estimator-id-2\" class=\"sk-toggleable__label sk-toggleable__label-arrow\">StandardScaler</label><div class=\"sk-toggleable__content\"><pre>StandardScaler()</pre></div></div></div></div></div>"
      ],
      "text/plain": [
       "StandardScaler()"
      ]
     },
     "execution_count": 36,
     "metadata": {},
     "output_type": "execute_result"
    }
   ],
   "source": [
    "scaler"
   ]
  },
  {
   "cell_type": "code",
   "execution_count": 37,
   "id": "2e587a1b",
   "metadata": {
    "execution": {
     "iopub.execute_input": "2023-05-03T11:52:36.180504Z",
     "iopub.status.busy": "2023-05-03T11:52:36.179949Z",
     "iopub.status.idle": "2023-05-03T11:52:36.187281Z",
     "shell.execute_reply": "2023-05-03T11:52:36.186175Z"
    },
    "papermill": {
     "duration": 0.026922,
     "end_time": "2023-05-03T11:52:36.189679",
     "exception": false,
     "start_time": "2023-05-03T11:52:36.162757",
     "status": "completed"
    },
    "tags": []
   },
   "outputs": [
    {
     "data": {
      "text/html": [
       "<style>#sk-container-id-3 {color: black;background-color: white;}#sk-container-id-3 pre{padding: 0;}#sk-container-id-3 div.sk-toggleable {background-color: white;}#sk-container-id-3 label.sk-toggleable__label {cursor: pointer;display: block;width: 100%;margin-bottom: 0;padding: 0.3em;box-sizing: border-box;text-align: center;}#sk-container-id-3 label.sk-toggleable__label-arrow:before {content: \"▸\";float: left;margin-right: 0.25em;color: #696969;}#sk-container-id-3 label.sk-toggleable__label-arrow:hover:before {color: black;}#sk-container-id-3 div.sk-estimator:hover label.sk-toggleable__label-arrow:before {color: black;}#sk-container-id-3 div.sk-toggleable__content {max-height: 0;max-width: 0;overflow: hidden;text-align: left;background-color: #f0f8ff;}#sk-container-id-3 div.sk-toggleable__content pre {margin: 0.2em;color: black;border-radius: 0.25em;background-color: #f0f8ff;}#sk-container-id-3 input.sk-toggleable__control:checked~div.sk-toggleable__content {max-height: 200px;max-width: 100%;overflow: auto;}#sk-container-id-3 input.sk-toggleable__control:checked~label.sk-toggleable__label-arrow:before {content: \"▾\";}#sk-container-id-3 div.sk-estimator input.sk-toggleable__control:checked~label.sk-toggleable__label {background-color: #d4ebff;}#sk-container-id-3 div.sk-label input.sk-toggleable__control:checked~label.sk-toggleable__label {background-color: #d4ebff;}#sk-container-id-3 input.sk-hidden--visually {border: 0;clip: rect(1px 1px 1px 1px);clip: rect(1px, 1px, 1px, 1px);height: 1px;margin: -1px;overflow: hidden;padding: 0;position: absolute;width: 1px;}#sk-container-id-3 div.sk-estimator {font-family: monospace;background-color: #f0f8ff;border: 1px dotted black;border-radius: 0.25em;box-sizing: border-box;margin-bottom: 0.5em;}#sk-container-id-3 div.sk-estimator:hover {background-color: #d4ebff;}#sk-container-id-3 div.sk-parallel-item::after {content: \"\";width: 100%;border-bottom: 1px solid gray;flex-grow: 1;}#sk-container-id-3 div.sk-label:hover label.sk-toggleable__label {background-color: #d4ebff;}#sk-container-id-3 div.sk-serial::before {content: \"\";position: absolute;border-left: 1px solid gray;box-sizing: border-box;top: 0;bottom: 0;left: 50%;z-index: 0;}#sk-container-id-3 div.sk-serial {display: flex;flex-direction: column;align-items: center;background-color: white;padding-right: 0.2em;padding-left: 0.2em;position: relative;}#sk-container-id-3 div.sk-item {position: relative;z-index: 1;}#sk-container-id-3 div.sk-parallel {display: flex;align-items: stretch;justify-content: center;background-color: white;position: relative;}#sk-container-id-3 div.sk-item::before, #sk-container-id-3 div.sk-parallel-item::before {content: \"\";position: absolute;border-left: 1px solid gray;box-sizing: border-box;top: 0;bottom: 0;left: 50%;z-index: -1;}#sk-container-id-3 div.sk-parallel-item {display: flex;flex-direction: column;z-index: 1;position: relative;background-color: white;}#sk-container-id-3 div.sk-parallel-item:first-child::after {align-self: flex-end;width: 50%;}#sk-container-id-3 div.sk-parallel-item:last-child::after {align-self: flex-start;width: 50%;}#sk-container-id-3 div.sk-parallel-item:only-child::after {width: 0;}#sk-container-id-3 div.sk-dashed-wrapped {border: 1px dashed gray;margin: 0 0.4em 0.5em 0.4em;box-sizing: border-box;padding-bottom: 0.4em;background-color: white;}#sk-container-id-3 div.sk-label label {font-family: monospace;font-weight: bold;display: inline-block;line-height: 1.2em;}#sk-container-id-3 div.sk-label-container {text-align: center;}#sk-container-id-3 div.sk-container {/* jupyter's `normalize.less` sets `[hidden] { display: none; }` but bootstrap.min.css set `[hidden] { display: none !important; }` so we also need the `!important` here to be able to override the default hidden behavior on the sphinx rendered scikit-learn.org. See: https://github.com/scikit-learn/scikit-learn/issues/21755 */display: inline-block !important;position: relative;}#sk-container-id-3 div.sk-text-repr-fallback {display: none;}</style><div id=\"sk-container-id-3\" class=\"sk-top-container\"><div class=\"sk-text-repr-fallback\"><pre>LinearRegression()</pre><b>In a Jupyter environment, please rerun this cell to show the HTML representation or trust the notebook. <br />On GitHub, the HTML representation is unable to render, please try loading this page with nbviewer.org.</b></div><div class=\"sk-container\" hidden><div class=\"sk-item\"><div class=\"sk-estimator sk-toggleable\"><input class=\"sk-toggleable__control sk-hidden--visually\" id=\"sk-estimator-id-3\" type=\"checkbox\" checked><label for=\"sk-estimator-id-3\" class=\"sk-toggleable__label sk-toggleable__label-arrow\">LinearRegression</label><div class=\"sk-toggleable__content\"><pre>LinearRegression()</pre></div></div></div></div></div>"
      ],
      "text/plain": [
       "LinearRegression()"
      ]
     },
     "execution_count": 37,
     "metadata": {},
     "output_type": "execute_result"
    }
   ],
   "source": [
    "regressor"
   ]
  },
  {
   "cell_type": "code",
   "execution_count": null,
   "id": "156ade47",
   "metadata": {
    "papermill": {
     "duration": 0.014848,
     "end_time": "2023-05-03T11:52:36.219457",
     "exception": false,
     "start_time": "2023-05-03T11:52:36.204609",
     "status": "completed"
    },
    "tags": []
   },
   "outputs": [],
   "source": []
  }
 ],
 "metadata": {
  "kernelspec": {
   "display_name": "Python 3",
   "language": "python",
   "name": "python3"
  },
  "language_info": {
   "codemirror_mode": {
    "name": "ipython",
    "version": 3
   },
   "file_extension": ".py",
   "mimetype": "text/x-python",
   "name": "python",
   "nbconvert_exporter": "python",
   "pygments_lexer": "ipython3",
   "version": "3.10.10"
  },
  "papermill": {
   "default_parameters": {},
   "duration": 16.638752,
   "end_time": "2023-05-03T11:52:37.257840",
   "environment_variables": {},
   "exception": null,
   "input_path": "__notebook__.ipynb",
   "output_path": "__notebook__.ipynb",
   "parameters": {},
   "start_time": "2023-05-03T11:52:20.619088",
   "version": "2.4.0"
  }
 },
 "nbformat": 4,
 "nbformat_minor": 5
}
